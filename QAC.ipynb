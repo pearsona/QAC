{
 "cells": [
  {
   "cell_type": "code",
   "execution_count": 4,
   "metadata": {
    "collapsed": false,
    "nbpresent": {
     "id": "24a649c8-7d17-4618-ae0d-1dbf356e6a07"
    }
   },
   "outputs": [],
   "source": [
    "using DWave, JLD, Plots\n",
    "#@pyimport dwave_sapi2.util as util\n",
    "#@pyimport dwave_sapi2.embedding as embedding"
   ]
  },
  {
   "cell_type": "code",
   "execution_count": 5,
   "metadata": {
    "collapsed": false
   },
   "outputs": [
    {
     "data": {
      "text/plain": [
       "isValidCoupling (generic function with 1 method)"
      ]
     },
     "execution_count": 5,
     "metadata": {},
     "output_type": "execute_result"
    }
   ],
   "source": [
    "#Future version of these ended up in DWave/src/QAC.jl\n",
    "\n",
    "\n",
    "#produces and h vector and J matrix of max size but only with nonzeros on the first numBitsUsed bits\n",
    "# h = 0\n",
    "# Jij belongs to {-1, -5/6, ..., 5/6, 1}\n",
    "function genInstance(numBitsUsed, numBitsTotal, nbrs, holes) \n",
    "\n",
    "    J = zeros(numBitsTotal, numBitsTotal);\n",
    "    couplings = -1:1/6:1;\n",
    "    idx = 1:length(couplings);\n",
    "    \n",
    "    for i = 1:numBitsUsed\n",
    "        (i - 1) in holes && continue\n",
    "        ns = nbrs[i - 1];\n",
    "        for j = 1:length(ns)\n",
    "            if i > ns[j] + 1\n",
    "                J[Int(ns[j]) + 1, i] = couplings[rand(idx)];\n",
    "            end\n",
    "        end\n",
    "    end\n",
    "    \n",
    "    \n",
    "    return ProblemInstance(zeros(numBitsTotal), SparseMatrixCSC(J))\n",
    "end\n",
    "\n",
    "#Will generate the Pudenz Code according to a physical graph\n",
    "function generatePudenzCode(solver = 0)\n",
    "    \n",
    "    #If no solver is given assume DW2X, otherwise get the properties via the DWave sapi\n",
    "    if solver == 0\n",
    "        props = getSolver()[:properties];\n",
    "    elseif typeof(solver) == String\n",
    "        props = getSolver(solver)[:properties];    \n",
    "    else\n",
    "        props = solver.properties;\n",
    "    end\n",
    "\n",
    "    #Get the relevant physical properties of the given solver\n",
    "    workingQubits = props[\"qubits\"];\n",
    "    workingCouplers = props[\"couplers\"];\n",
    "    numPhysQubits = props[\"num_qubits\"];\n",
    "    physHoles = setdiff(0:1:(numPhysQubits - 1), workingQubits); #maybe workingQubits transpose\n",
    "\n",
    "    #Get the relevant logical properties of the given solver\n",
    "    numLogQubits = numPhysQubits/4;\n",
    "    cellSize = sqrt(numPhysQubits/2);\n",
    "    code = Dict();\n",
    "    logNbrs = Dict();\n",
    "    logHoles = [];\n",
    "\n",
    "\n",
    "    #Create the code that converts the physical solver into a logical one via the Pudenz code\n",
    "    for physBit = 0:8:(numPhysQubits - 8)\n",
    "\n",
    "        #Upper 3 physical bits on each side will become a logical one\n",
    "        leftLog = 2*floor(physBit/8); leftPhys = [physBit, (physBit + 1), (physBit + 2)];\n",
    "        rightLog = leftLog + 1; rightPhys = [(physBit + 4), (physBit + 5), (physBit + 6)];\n",
    "\n",
    "        if ~isempty(intersect(leftPhys, physHoles))\n",
    "            leftPhys = []\n",
    "            push!(logHoles, leftLog)\n",
    "        end\n",
    "\n",
    "        if ~isempty(intersect(rightPhys, physHoles))\n",
    "            rightPhys = []\n",
    "            push!(logHoles, rightLog)\n",
    "        end\n",
    "        \n",
    "\n",
    "        #The lower bit on each side will become a penalty bit,\n",
    "        # if present and coupled appropriately\n",
    "        leftPen = physBit + 7; #penalty for left side sits on the right and vice versa\n",
    "        if ~(leftPen in physHoles) && ~isempty(leftPhys)\n",
    "            if isValidCoupling(leftPhys[1], leftPen, workingCouplers) && \n",
    "                isValidCoupling(leftPhys[2], leftPen, workingCouplers) &&\n",
    "                isValidCoupling(leftPhys[3], leftPen, workingCouplers)\n",
    "           \n",
    "                push!(leftPhys, leftPen)\n",
    "            end\n",
    "        end\n",
    "\n",
    "        rightPen = physBit + 3;\n",
    "        if ~(rightPen in physHoles) && ~isempty(rightPhys)\n",
    "            if isValidCoupling(rightPhys[1], rightPen, workingCouplers) &&\n",
    "                isValidCoupling(rightPhys[2], rightPen, workingCouplers) &&\n",
    "                isValidCoupling(rightPhys[3], rightPen, workingCouplers)\n",
    "\n",
    "                push!(rightPhys, rightPen)\n",
    "            end\n",
    "        end\n",
    "\n",
    "        code[leftLog] = leftPhys;\n",
    "        code[rightLog] = rightPhys;\n",
    "    end\n",
    "\n",
    "    validLogQubits = setdiff(keys(code),logHoles);\n",
    "\n",
    "    #Find the connectivity of the logical graph based on the code created above\n",
    "    for (logBit, physBits) in code\n",
    "\n",
    "        logNbrs[logBit] = [];\n",
    "        #First check if this bit can even be used\n",
    "        if logBit in logHoles\n",
    "            continue;\n",
    "        end\n",
    "\n",
    "\n",
    "        if logBit % 2 == 0\n",
    "            nbrs = intersect([(logBit + 1) (logBit + 2*cellSize) (logBit - 2*cellSize)], validLogQubits);\n",
    "        else\n",
    "            nbrs = intersect([(logBit - 1) (logBit - 2) (logBit + 2)], validLogQubits);\n",
    "        end\n",
    "\n",
    "        for bit in nbrs\n",
    "            if ~(bit in logHoles)\n",
    "                physNbrs = code[bit];\n",
    "                if isValidCoupling(physBits[1], physNbrs[1], workingCouplers) &&\n",
    "                    isValidCoupling(physBits[2], physNbrs[2], workingCouplers) &&\n",
    "                    isValidCoupling(physBits[3], physNbrs[3], workingCouplers)\n",
    "                    \n",
    "                    push!(logNbrs[logBit], bit)\n",
    "                end\n",
    "            end\n",
    "        end\n",
    "    end\n",
    "    dd\n",
    "    save(\"code.jld\", \"code\", code);\n",
    "    save(\"logHoles.jld\", \"logHoles\", logHoles);\n",
    "    save(\"logNbrs.jld\", \"logNbrs\", logNbrs);\n",
    "    \n",
    "    #return [code, holes, logNbrs]\n",
    "end\n",
    "\n",
    "\n",
    "function fractionPenaltyBits(code = load(\"code.jld\", \"code\"))\n",
    "    \n",
    "    num = 0.0\n",
    "    for ps in values(code)\n",
    "        length(ps) == 4 && (num = num + 1)\n",
    "    end\n",
    "    \n",
    "    return num/length(code)\n",
    "end\n",
    "\n",
    "\n",
    "\n",
    "function getSolver(solverName = \"DW2X\", url = \"https://usci.qcc.isi.edu/sapi\", token = \"RnD-18901d8deba611aa9e02cb5556c783ea2597045d\")\n",
    "    return DWave.dwrm.RemoteConnection(url, token)[:get_solver](solverName);\n",
    "end\n",
    "\n",
    "#Assuming wcs = [a b; c d; ...]\n",
    "function isValidCoupling(bit1, bit2, wcs)\n",
    "    for i = 1:size(wcs, 1)\n",
    "        ([bit1, bit2] == wcs[i,:] || [bit2, bit1] == wcs[i, :]) && return true\n",
    "    end\n",
    "    \n",
    "    return false\n",
    "end"
   ]
  },
  {
   "cell_type": "code",
   "execution_count": null,
   "metadata": {
    "collapsed": false,
    "nbpresent": {
     "id": "67dc6777-581c-4811-8f6b-28f21b9b02ce"
    }
   },
   "outputs": [],
   "source": [
    "#Future versions of these ended up in DWave/src/embeddings.jl\n",
    "\n",
    "#Take a logical ising problem defined by an h vector and J matrix and turn into a physical problem\n",
    "#with beta as a the penalty stabilizer strength\n",
    "function log2PhysHam(logH, logJ, beta, params = \"\")\n",
    "    \n",
    "    #Retrieve these from the code above\n",
    "    code = load(\"code.jld\");\n",
    "    logNbrs = load(\"logNbrs.jld\");\n",
    "    numLogBits = length(logH);\n",
    "    numPhysBits = numLogBits*4; #assuming Pudenz Code\n",
    "    \n",
    "    physH = zeros(numPhysBits, 1);\n",
    "    physJ = zeros(numPhysBits, numPhysBits);\n",
    "    \n",
    "    logJ = sparse(logJ + logJ'); #since we will treat J as upper triangular and only care about nonzero elements\n",
    "    \n",
    "    for logBit = 1:numLogBits\n",
    "        physBits = code(logBit - 1);\n",
    "        \n",
    "        #Create physical h for the bits we care about/can use\n",
    "        if isempty(physBits) && logH[logBit] ~= 0\n",
    "            throw(string(\"Logical qubit \", logBit, \" is not valid, make sure to only include nonzero terms in the Hamiltonian for valid qubits\"));\n",
    "        end\n",
    "        physH[physBits + 1] = logH[logBit]/2; #WHY DIVIDE BY 2??\n",
    "        \n",
    "        #Create physical J for the bits we care about/can use\n",
    "        for logBit2 = (logBit + 1):numLogBits\n",
    "            if ~(logBit2 in logNbrs[logBit])\n",
    "                throw(string(\"Logical qubits \", logBit, \" and \", logBit2, \" are not coupled, make sure to only include nonzero terms in the Hamiltonian for valid qubits\"));\n",
    "            end\n",
    "            \n",
    "            physBits2 = code(logBit2 - 1);\n",
    "            \n",
    "            physJ[physBits[1], physBits2[1]] = logJ[logBit, logBit2];\n",
    "            physJ[physBits[2], physBits2[2]] = logJ[logBit, logBit2];\n",
    "            physJ[physBits[3], physBits2[3]] = logJ[logBit, logBit2];\n",
    "        end\n",
    "        \n",
    "        #Create stabilizer terms for penalty bits we have for the logical bits we care about\n",
    "        if logH[logBit] ~= 0 || sum(logJ[:, logBit]) > 0\n",
    "            if length(physBits) == 4\n",
    "                physJ[physBits[1], physBits[4]] = -beta; \n",
    "                physJ[physBits[2], physBits[4]] = -beta;\n",
    "                physJ[physBits[3], physBits[4]] = -beta;\n",
    "            end\n",
    "        end\n",
    "    end\n",
    "    \n",
    "    \n",
    "    return ProblemInstance(physH, sparse(physJ), params)\n",
    "end\n",
    "\n",
    "#Take the solutions given by DWave and convert them back to a logical solution\n",
    "#strategy of majority vote will pick what most phys bits got, ep/other will only accept unanimous vote or otherwise 0 (tie)\n",
    "function decodeSolutions(sols, strat = \"majvote\")\n",
    "    \n",
    "    numLogBits = size(sols[1])/4;\n",
    "    numReads = length(sols);\n",
    "    holes = load(\"holes.jld\"); #get this from the code\n",
    "    code = load(\"code.jld\");\n",
    "    \n",
    "    decodedSols = 3*ones(numLogsBits, numReads); #why *3...?\n",
    "    \n",
    "    for logBit = setdiff(0:(numLogBits - 1), holes)\n",
    "        physBits = code(logBit) + 1;\n",
    "        majVote = sum(sols[:, physBits[1:3]], 2); #definitely check that this is right...\n",
    "        #why do this??\n",
    "        if majVote[1] == 12\n",
    "            continue;\n",
    "        end\n",
    "        \n",
    "        if strat == \"majvote\"\n",
    "            decodedSols[logBit + 1, :] = 1*(majVote .> 0) - 1*(majVote .< 0)\n",
    "        else\n",
    "            decodedSols[logBit + 1, :] = 1*(majVote .== 3) - 1*(majVote .== -3)\n",
    "        end\n",
    "    end\n",
    "    \n",
    "    return decodedSols;\n",
    "end"
   ]
  },
  {
   "cell_type": "code",
   "execution_count": null,
   "metadata": {
    "collapsed": false,
    "nbpresent": {
     "id": "26696597-17e1-4683-a8cb-1edc538f5c20"
    }
   },
   "outputs": [],
   "source": [
    "#This was rendered unnecessary since run_experiment exists in DWave/src/experiments.jl\n",
    "\n",
    "#Take the number of instances to be produced and the fraction of (logical) bits to be used\n",
    "#Generate these instances and send them to DWave\n",
    "function runQAC(numInstances = 1, fractionBitsUsed = 1, beta = 1)\n",
    "    \n",
    "    code = load(\"code.jld\");\n",
    "    logNbrs = load(\"logNbrs\");\n",
    "    numBitsTotal = length(code);\n",
    "    numBitsUsed = fractionBitsUsed*numBitsTotal;\n",
    "    \n",
    "    file = jldopen(\"data.jld\", \"w\");\n",
    "    \n",
    "    for i = 1:numInstances\n",
    "        logH, logJ = genInstance(numBitsUsed, numBitsTotal, logNbrs);\n",
    "        submitProblem(log2PhysHam(logH, logJ, beta));\n",
    "        \n",
    "        #Maybe not necessary to save these?\n",
    "        file[i] = [logH, logJ]; #can always reproduce the physical h and J's using log2PhysHam\n",
    "    end\n",
    "    \n",
    "    close(file);\n",
    "end\n",
    "\n",
    "function init(solver = 0)\n",
    "    generatePudenzCode(solver);\n",
    "end"
   ]
  },
  {
   "cell_type": "code",
   "execution_count": 8,
   "metadata": {
    "collapsed": false
   },
   "outputs": [
    {
     "ename": "LoadError",
     "evalue": "\u001b[91mInterruptException:\u001b[39m",
     "output_type": "error",
     "traceback": [
      "\u001b[91mInterruptException:\u001b[39m",
      "",
      "Stacktrace:",
      " [1] \u001b[1m#_pycall#67\u001b[22m\u001b[22m\u001b[1m(\u001b[22m\u001b[22m::Array{Any,1}, ::Function, ::PyCall.PyObject, ::String, ::Vararg{String,N} where N\u001b[1m)\u001b[22m\u001b[22m at \u001b[1m/Users/Adam/.julia/v0.6/PyCall/src/PyCall.jl:663\u001b[22m\u001b[22m",
      " [2] \u001b[1m_pycall\u001b[22m\u001b[22m\u001b[1m(\u001b[22m\u001b[22m::PyCall.PyObject, ::String, ::Vararg{String,N} where N\u001b[1m)\u001b[22m\u001b[22m at \u001b[1m/Users/Adam/.julia/v0.6/PyCall/src/PyCall.jl:641\u001b[22m\u001b[22m",
      " [3] \u001b[1m#pycall#71\u001b[22m\u001b[22m\u001b[1m(\u001b[22m\u001b[22m::Array{Any,1}, ::Function, ::PyCall.PyObject, ::Type{PyCall.PyAny}, ::String, ::Vararg{String,N} where N\u001b[1m)\u001b[22m\u001b[22m at \u001b[1m/Users/Adam/.julia/v0.6/PyCall/src/PyCall.jl:675\u001b[22m\u001b[22m",
      " [4] \u001b[1mpycall\u001b[22m\u001b[22m\u001b[1m(\u001b[22m\u001b[22m::PyCall.PyObject, ::Type{PyCall.PyAny}, ::String, ::Vararg{String,N} where N\u001b[1m)\u001b[22m\u001b[22m at \u001b[1m/Users/Adam/.julia/v0.6/PyCall/src/PyCall.jl:675\u001b[22m\u001b[22m",
      " [5] \u001b[1m#call#72\u001b[22m\u001b[22m\u001b[1m(\u001b[22m\u001b[22m::Array{Any,1}, ::PyCall.PyObject, ::String, ::Vararg{String,N} where N\u001b[1m)\u001b[22m\u001b[22m at \u001b[1m/Users/Adam/.julia/v0.6/PyCall/src/PyCall.jl:678\u001b[22m\u001b[22m",
      " [6] \u001b[1mgetSolver\u001b[22m\u001b[22m\u001b[1m(\u001b[22m\u001b[22m\u001b[1m)\u001b[22m\u001b[22m at \u001b[1m./In[5]:149\u001b[22m\u001b[22m",
      " [7] \u001b[1minclude_string\u001b[22m\u001b[22m\u001b[1m(\u001b[22m\u001b[22m::String, ::String\u001b[1m)\u001b[22m\u001b[22m at \u001b[1m./loading.jl:522\u001b[22m\u001b[22m"
     ]
    }
   ],
   "source": [
    "# Generating and Solving Instances\n",
    "#----------------------------------\n",
    "dir = \"test/\"\n",
    "\n",
    "problem_size = 288 #1152/4 = 228\n",
    "solver_size = 1152 #DW2X = 1152\n",
    "num_insts = 1 #1000\n",
    "#num_embeddings = 18\n",
    "num_per_call = 15\n",
    "num_samples_dw = 1000\n",
    "num_samples_hfs = num_samples_dw*10\n",
    "num_runs_dw = 20\n",
    "num_runs_hfs = num_runs_dw\n",
    "betas = [0.1, 0.2, 0.3, 0.4, 0.5]\n",
    "num_bs = length(betas)\n",
    "\n",
    "successQAC = zeros(num_insts, 4)\n",
    "successC = zeros(num_insts, 3)\n",
    "num_posterior_samples = 1000\n",
    "\n",
    "eg = EmbeddingGenerator([GaugeEmbedding=>solver_size])\n",
    "hfs_eg = EmbeddingGenerator([GaugeEmbedding=>problem_size])\n",
    "props = getSolver()[:properties]\n",
    "props[:token] = \"RnD-18901d8deba611aa9e02cb5556c783ea2597045d\"\n",
    "nbrs = load(\"logNbrs.jld\", \"logNbrs\")\n",
    "holes = load(\"logHoles.jld\", \"logHoles\")\n",
    "\n",
    "println(\"Starting\")\n",
    "for i = 1:num_insts\n",
    "    inst = genInstance(problem_size, solver_size/4, nbrs, holes)\n",
    "    \n",
    "    # HFS for finding GS Energy\n",
    "    #---------------------------\n",
    "    println(\"Running HFS\")\n",
    "    exper = ExperimentDescription(instance=inst, R=num_samples_hfs, name=string(\"instHFS_\", i),solver=:HFS, solver_properties=props, \n",
    "    embedding_generator=hfs_eg, decode_opts=[1])\n",
    "    (_, es, _) = run_experiment(exper, minruns=1,maxruns=num_runs_hfs,vc=0.2,vcmode=:prob, N=1,\n",
    "        savesols=false,save_encoded=false,tosave=false, save_embeddings=false,coupleruns=false,timeout=2.,verbose=true)\n",
    "    \n",
    "    gs_e = minimum(es)\n",
    "    \n",
    "    \n",
    "    # Pudenz Code\n",
    "    #-------------\n",
    "    tmpVals = zeros(3)\n",
    "    for b in betas\n",
    "        # Create the physical problem for the given beta\n",
    "        p_emb = PudenzEmbedding(b)\n",
    "        inst_p = applyEmbedding(p_emb, inst)\n",
    "        \n",
    "        # Send pudenz/QAC problem off to DWave\n",
    "        println(\"Running Pudenz Code on DWave with beta = \", b)\n",
    "        exper = ExperimentDescription(instance=inst_p, R=num_samples_dw, name=string(\"instQAC_\", i),solver=:DWave,\n",
    "        solver_properties=props,embedding_generator=eg, decode_opts=[1])\n",
    "        (_, es_dw, _) = run_experiment(exper, minruns=num_runs_dw,maxruns=num_runs_dw,vc=0.2,vcmode=:prob, N=num_per_call,\n",
    "                savesols=true,save_encoded=false,tosave=true, \n",
    "                save_embeddings=false,coupleruns=false,savepath=dir,timeout=2.,verbose=true)\n",
    "        \n",
    "        # Select the best results\n",
    "        ps = get_posteriors(es_dw,false,num_posterior_samples,true_Egs=gs_e)[:,end]\n",
    "        if mean(ps) > tmpVals[1]\n",
    "            tempVals = [mean(ps) std(ps) b]\n",
    "        end\n",
    "    end\n",
    "    \n",
    "    successQAC[i] = [tempVals[1:2], gs_e, tempVals[3]]\n",
    "    \n",
    "    \n",
    "    # C/Repetition Code\n",
    "    #-------------------\n",
    "    # NOTE: pudenz code with beta = 0 == 3C repetition?\n",
    "    p_emb = PudenzEmbedding(0)\n",
    "    inst_c = applyEmbedding(p_emb, inst)\n",
    "    exper = ExperimentDescription(instance=inst_c, R=num_samples_dw, name=string(\"instC_\", i), solver=:DWave,\n",
    "    solver_properties=props,embedding_generator=eg, decode_opts=[1])\n",
    "    (_, es_dw, _) = run_experiment(exper, minruns=num_runs_dw,maxruns=num_runs_dw,vc=0.2,vcmode=:prob, N=num_per_call,\n",
    "            savesols=true,save_encoded=false,tosave=true, \n",
    "            save_embeddings=false,coupleruns=false,savepath=dir,timeout=2.,verbose=true)\n",
    "    \n",
    "    #gives prob of success for 4C given prob of success for 3C (assuming negligible correlations)\n",
    "    ps = 1 - (1 - get_posteriors(es_dw,false,num_posterior_samples,true_Egs=gs_e)[:,end]).^(4/3)\n",
    "    successC[i] = [mean(ps), std(ps), gs_e]\n",
    "end\n",
    "\n",
    "println(\"Done\")\n",
    "\n",
    "#Can all this just be gotten from what's already stored?\n",
    "save(string(dir,\"success_QAC.jld\"), \"mean\", successQAC[:, 1])\n",
    "save(string(dir,\"success_QAC.jld\"), \"std\", successQAC[:, 2])\n",
    "save(string(dir,\"success_QAC.jld\"), \"gs_e\", successQAC[:, 3])\n",
    "save(string(dir,\"success_QAC.jld\"), \"betas\", successQAC[:, 4])\n",
    "\n",
    "save(string(dir,\"success_C.jld\"), \"mean\", successC[:, 1])\n",
    "save(string(dir,\"success_C.jld\"), \"std\", successC[:, 2])\n",
    "save(string(dir,\"success_C.jld\"), \"gs_e\", successC[:, 3])\n",
    "\n",
    "\n",
    "# Results\n",
    "#---------\n",
    "plot(successQAC[:, 1], successC[:, 1]) #need to add color depending on beta value... pyplot, gadfly, etc."
   ]
  },
  {
   "cell_type": "code",
   "execution_count": null,
   "metadata": {
    "collapsed": false
   },
   "outputs": [],
   "source": [
    "#desc = load(\"test_instance/ExperimentDescriptions.jld2\", \"ExperimentDescriptions\")[1]\n",
    "one = load(\"test_instance/1.jld2\")\n",
    "des = one[\"decoded_energies\"]\n",
    "\n",
    "#histogram(one[\"decoded_energies\"])\n",
    "\n",
    "println(get_posterior_variations(des,false,1000,vcmode=:Prob)[1])\n",
    "println(get_posteriors(des,false,1000,true_Egs=false)[:,end])\n",
    "println(minimum(des))\n",
    "\n",
    "#histogram(des)"
   ]
  },
  {
   "cell_type": "code",
   "execution_count": null,
   "metadata": {
    "collapsed": false,
    "scrolled": false
   },
   "outputs": [],
   "source": [
    "nbrs = load(\"logNbrs.jld\", \"logNbrs\")\n",
    "holes = load(\"logHoles.jld\", \"logHoles\")\n",
    "inst = genInstance(288, 288, nbrs, holes)\n",
    "\n",
    "p_emb = PudenzEmbedding(0.1)\n",
    "inst_p = applyEmbedding(p_emb, inst)\n",
    "\n",
    "exper = ExperimentDescription(instance=inst_p, R=num_samples_dw, name=string(\"instQAC_\"),\n",
    "        solver=:DWave, solver_properties=props,embedding_generator=eg, decode_opts=[1])\n",
    "\n",
    "#dw_adj = SparseMatrixCSC(zeros(1152, 1152))\n",
    "#adj_set = util.get_hardware_adjacency(getSolver())\n",
    "\n",
    "#for a in adj_set\n",
    "#    dw_adj[a[1] + 1, a[2] + 1] = 1 \n",
    "#end\n",
    "\n",
    "#emb = SAPIEmbedding(spones(inst.J), dw_adj)\n",
    "\n",
    "#emb = SAPIEmbedding(1152, 0)"
   ]
  },
  {
   "cell_type": "code",
   "execution_count": 10,
   "metadata": {
    "collapsed": false
   },
   "outputs": [
    {
     "data": {
      "text/plain": [
       "Dict{String,Any} with 6 entries:\n",
       "  \"decoded_solutions\"     => Bool[false false … false false; false false … fals…\n",
       "  \"decoded_energies\"      => [-70.1667; -81.0; … ; -73.6667; -78.8333]\n",
       "  \"sweeps\"                => [20; 20; … ; 20; 16]\n",
       "  \"energies\"              => [-367.333; -444.0; … ; -434.667; -457.667]\n",
       "  \"date\"                  => 2018-04-22T12:26:17.979\n",
       "  \"ExperimentDescription\" => DWave.ExperimentDescription(ProblemInstance(h,J,pr…"
      ]
     },
     "execution_count": 10,
     "metadata": {},
     "output_type": "execute_result"
    }
   ],
   "source": [
    "load(\"test_instance/1.jld2\")"
   ]
  },
  {
   "cell_type": "code",
   "execution_count": 13,
   "metadata": {
    "collapsed": false
   },
   "outputs": [
    {
     "data": {
      "text/plain": [
       "1×3 Array{Int64,2}:\n",
       " 0  1  4"
      ]
     },
     "execution_count": 13,
     "metadata": {},
     "output_type": "execute_result"
    }
   ],
   "source": [
    "x = [1 2 3]\n",
    "(1 - x).^2"
   ]
  },
  {
   "cell_type": "code",
   "execution_count": null,
   "metadata": {
    "collapsed": true
   },
   "outputs": [],
   "source": []
  }
 ],
 "metadata": {
  "anaconda-cloud": {},
  "kernelspec": {
   "display_name": "Julia 0.6.2",
   "language": "julia",
   "name": "julia-0.6"
  },
  "language_info": {
   "file_extension": ".jl",
   "mimetype": "application/julia",
   "name": "julia",
   "version": "0.6.2"
  },
  "nbpresent": {
   "slides": {},
   "themes": {
    "default": "46c11f0d-adac-4a43-a297-339e9e05c3b1",
    "theme": {
     "46c11f0d-adac-4a43-a297-339e9e05c3b1": {
      "id": "46c11f0d-adac-4a43-a297-339e9e05c3b1",
      "palette": {
       "19cc588f-0593-49c9-9f4b-e4d7cc113b1c": {
        "id": "19cc588f-0593-49c9-9f4b-e4d7cc113b1c",
        "rgb": [
         252,
         252,
         252
        ]
       },
       "31af15d2-7e15-44c5-ab5e-e04b16a89eff": {
        "id": "31af15d2-7e15-44c5-ab5e-e04b16a89eff",
        "rgb": [
         68,
         68,
         68
        ]
       },
       "50f92c45-a630-455b-aec3-788680ec7410": {
        "id": "50f92c45-a630-455b-aec3-788680ec7410",
        "rgb": [
         155,
         177,
         192
        ]
       },
       "c5cc3653-2ee1-402a-aba2-7caae1da4f6c": {
        "id": "c5cc3653-2ee1-402a-aba2-7caae1da4f6c",
        "rgb": [
         43,
         126,
         184
        ]
       },
       "efa7f048-9acb-414c-8b04-a26811511a21": {
        "id": "efa7f048-9acb-414c-8b04-a26811511a21",
        "rgb": [
         25.118061674008803,
         73.60176211453744,
         107.4819383259912
        ]
       }
      },
      "rules": {
       "blockquote": {
        "color": "50f92c45-a630-455b-aec3-788680ec7410"
       },
       "code": {
        "font-family": "Anonymous Pro"
       },
       "h1": {
        "color": "c5cc3653-2ee1-402a-aba2-7caae1da4f6c",
        "font-family": "Lato",
        "font-size": 8
       },
       "h2": {
        "color": "c5cc3653-2ee1-402a-aba2-7caae1da4f6c",
        "font-family": "Lato",
        "font-size": 6
       },
       "h3": {
        "color": "50f92c45-a630-455b-aec3-788680ec7410",
        "font-family": "Lato",
        "font-size": 5.5
       },
       "h4": {
        "color": "c5cc3653-2ee1-402a-aba2-7caae1da4f6c",
        "font-family": "Lato",
        "font-size": 5
       },
       "h5": {
        "font-family": "Lato"
       },
       "h6": {
        "font-family": "Lato"
       },
       "h7": {
        "font-family": "Lato"
       },
       "pre": {
        "font-family": "Anonymous Pro",
        "font-size": 4
       }
      },
      "text-base": {
       "font-family": "Merriweather",
       "font-size": 4
      }
     },
     "86fa30b8-ff51-4aaf-8193-126b3ebc2850": {
      "id": "86fa30b8-ff51-4aaf-8193-126b3ebc2850",
      "palette": {
       "19cc588f-0593-49c9-9f4b-e4d7cc113b1c": {
        "id": "19cc588f-0593-49c9-9f4b-e4d7cc113b1c",
        "rgb": [
         252,
         252,
         252
        ]
       },
       "31af15d2-7e15-44c5-ab5e-e04b16a89eff": {
        "id": "31af15d2-7e15-44c5-ab5e-e04b16a89eff",
        "rgb": [
         68,
         68,
         68
        ]
       },
       "50f92c45-a630-455b-aec3-788680ec7410": {
        "id": "50f92c45-a630-455b-aec3-788680ec7410",
        "rgb": [
         155,
         177,
         192
        ]
       },
       "c5cc3653-2ee1-402a-aba2-7caae1da4f6c": {
        "id": "c5cc3653-2ee1-402a-aba2-7caae1da4f6c",
        "rgb": [
         43,
         126,
         184
        ]
       },
       "efa7f048-9acb-414c-8b04-a26811511a21": {
        "id": "efa7f048-9acb-414c-8b04-a26811511a21",
        "rgb": [
         25.118061674008803,
         73.60176211453744,
         107.4819383259912
        ]
       }
      },
      "rules": {
       "blockquote": {
        "color": "50f92c45-a630-455b-aec3-788680ec7410"
       },
       "code": {
        "font-family": "Anonymous Pro"
       },
       "h1": {
        "color": "c5cc3653-2ee1-402a-aba2-7caae1da4f6c",
        "font-family": "Lato",
        "font-size": 8
       },
       "h2": {
        "color": "c5cc3653-2ee1-402a-aba2-7caae1da4f6c",
        "font-family": "Lato",
        "font-size": 6
       },
       "h3": {
        "color": "50f92c45-a630-455b-aec3-788680ec7410",
        "font-family": "Lato",
        "font-size": 5.5
       },
       "h4": {
        "color": "c5cc3653-2ee1-402a-aba2-7caae1da4f6c",
        "font-family": "Lato",
        "font-size": 5
       },
       "h5": {
        "font-family": "Lato"
       },
       "h6": {
        "font-family": "Lato"
       },
       "h7": {
        "font-family": "Lato"
       },
       "pre": {
        "font-family": "Anonymous Pro",
        "font-size": 4
       }
      },
      "text-base": {
       "font-family": "Merriweather",
       "font-size": 4
      }
     }
    }
   }
  }
 },
 "nbformat": 4,
 "nbformat_minor": 1
}
